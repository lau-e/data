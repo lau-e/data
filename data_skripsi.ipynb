{
 "cells": [
  {
   "cell_type": "code",
   "execution_count": null,
   "metadata": {},
   "outputs": [],
   "source": [
    "import pandas as pd\n",
    "import numpy as np\n",
    "import matplotlib.pyplot as plt\n",
    "import seaborn as sns"
   ]
  },
  {
   "cell_type": "code",
   "execution_count": 100,
   "metadata": {},
   "outputs": [
    {
     "data": {
      "text/html": [
       "<div>\n",
       "<style scoped>\n",
       "    .dataframe tbody tr th:only-of-type {\n",
       "        vertical-align: middle;\n",
       "    }\n",
       "\n",
       "    .dataframe tbody tr th {\n",
       "        vertical-align: top;\n",
       "    }\n",
       "\n",
       "    .dataframe thead th {\n",
       "        text-align: right;\n",
       "    }\n",
       "</style>\n",
       "<table border=\"1\" class=\"dataframe\">\n",
       "  <thead>\n",
       "    <tr style=\"text-align: right;\">\n",
       "      <th></th>\n",
       "      <th>Nomor HP* (Optional)</th>\n",
       "      <th>usia</th>\n",
       "      <th>jenis_kelamin</th>\n",
       "      <th>fakultas</th>\n",
       "      <th>jurusan</th>\n",
       "      <th>angkatan</th>\n",
       "      <th>CON1</th>\n",
       "      <th>CON2</th>\n",
       "      <th>CON3</th>\n",
       "      <th>CON4</th>\n",
       "      <th>...</th>\n",
       "      <th>FOR3</th>\n",
       "      <th>EOU1</th>\n",
       "      <th>EOU2</th>\n",
       "      <th>EOU3</th>\n",
       "      <th>TIM1</th>\n",
       "      <th>TIM2</th>\n",
       "      <th>TIM3</th>\n",
       "      <th>US1</th>\n",
       "      <th>US2</th>\n",
       "      <th>US3</th>\n",
       "    </tr>\n",
       "  </thead>\n",
       "  <tbody>\n",
       "    <tr>\n",
       "      <th>0</th>\n",
       "      <td>1234</td>\n",
       "      <td>21-23</td>\n",
       "      <td>Perempuan</td>\n",
       "      <td>Tarbiyah dan Keguruan</td>\n",
       "      <td>Tadris Matematika</td>\n",
       "      <td>20'</td>\n",
       "      <td>5</td>\n",
       "      <td>4</td>\n",
       "      <td>4</td>\n",
       "      <td>5</td>\n",
       "      <td>...</td>\n",
       "      <td>5</td>\n",
       "      <td>5</td>\n",
       "      <td>5</td>\n",
       "      <td>5</td>\n",
       "      <td>5</td>\n",
       "      <td>3</td>\n",
       "      <td>5</td>\n",
       "      <td>5</td>\n",
       "      <td>5</td>\n",
       "      <td>5</td>\n",
       "    </tr>\n",
       "    <tr>\n",
       "      <th>1</th>\n",
       "      <td>82288225929</td>\n",
       "      <td>21-23</td>\n",
       "      <td>Laki-Laki</td>\n",
       "      <td>Tarbiyah dan Keguruan</td>\n",
       "      <td>Tadris Matematika</td>\n",
       "      <td>22'</td>\n",
       "      <td>4</td>\n",
       "      <td>4</td>\n",
       "      <td>4</td>\n",
       "      <td>3</td>\n",
       "      <td>...</td>\n",
       "      <td>4</td>\n",
       "      <td>4</td>\n",
       "      <td>4</td>\n",
       "      <td>4</td>\n",
       "      <td>4</td>\n",
       "      <td>4</td>\n",
       "      <td>4</td>\n",
       "      <td>5</td>\n",
       "      <td>4</td>\n",
       "      <td>4</td>\n",
       "    </tr>\n",
       "    <tr>\n",
       "      <th>2</th>\n",
       "      <td>85158893049</td>\n",
       "      <td>21-23</td>\n",
       "      <td>Perempuan</td>\n",
       "      <td>Tarbiyah dan Keguruan</td>\n",
       "      <td>Tadris IPS</td>\n",
       "      <td>20'</td>\n",
       "      <td>5</td>\n",
       "      <td>5</td>\n",
       "      <td>5</td>\n",
       "      <td>5</td>\n",
       "      <td>...</td>\n",
       "      <td>5</td>\n",
       "      <td>5</td>\n",
       "      <td>5</td>\n",
       "      <td>5</td>\n",
       "      <td>5</td>\n",
       "      <td>5</td>\n",
       "      <td>5</td>\n",
       "      <td>5</td>\n",
       "      <td>5</td>\n",
       "      <td>5</td>\n",
       "    </tr>\n",
       "    <tr>\n",
       "      <th>3</th>\n",
       "      <td>82384030414</td>\n",
       "      <td>21-23</td>\n",
       "      <td>Perempuan</td>\n",
       "      <td>Tarbiyah dan Keguruan</td>\n",
       "      <td>Tadris IPS</td>\n",
       "      <td>20'</td>\n",
       "      <td>4</td>\n",
       "      <td>4</td>\n",
       "      <td>4</td>\n",
       "      <td>4</td>\n",
       "      <td>...</td>\n",
       "      <td>4</td>\n",
       "      <td>5</td>\n",
       "      <td>5</td>\n",
       "      <td>4</td>\n",
       "      <td>4</td>\n",
       "      <td>4</td>\n",
       "      <td>3</td>\n",
       "      <td>4</td>\n",
       "      <td>4</td>\n",
       "      <td>5</td>\n",
       "    </tr>\n",
       "    <tr>\n",
       "      <th>4</th>\n",
       "      <td>82375114074</td>\n",
       "      <td>21-23</td>\n",
       "      <td>Perempuan</td>\n",
       "      <td>Tarbiyah dan Keguruan</td>\n",
       "      <td>Tadris Fisika</td>\n",
       "      <td>20'</td>\n",
       "      <td>4</td>\n",
       "      <td>4</td>\n",
       "      <td>4</td>\n",
       "      <td>5</td>\n",
       "      <td>...</td>\n",
       "      <td>4</td>\n",
       "      <td>4</td>\n",
       "      <td>4</td>\n",
       "      <td>5</td>\n",
       "      <td>3</td>\n",
       "      <td>4</td>\n",
       "      <td>3</td>\n",
       "      <td>4</td>\n",
       "      <td>5</td>\n",
       "      <td>4</td>\n",
       "    </tr>\n",
       "    <tr>\n",
       "      <th>5</th>\n",
       "      <td>81283375024</td>\n",
       "      <td>18-20</td>\n",
       "      <td>Perempuan</td>\n",
       "      <td>Tarbiyah dan Keguruan</td>\n",
       "      <td>Tadris Fisika</td>\n",
       "      <td>22'</td>\n",
       "      <td>4</td>\n",
       "      <td>3</td>\n",
       "      <td>3</td>\n",
       "      <td>3</td>\n",
       "      <td>...</td>\n",
       "      <td>3</td>\n",
       "      <td>5</td>\n",
       "      <td>3</td>\n",
       "      <td>4</td>\n",
       "      <td>5</td>\n",
       "      <td>4</td>\n",
       "      <td>4</td>\n",
       "      <td>3</td>\n",
       "      <td>4</td>\n",
       "      <td>5</td>\n",
       "    </tr>\n",
       "    <tr>\n",
       "      <th>6</th>\n",
       "      <td>82375852033</td>\n",
       "      <td>21-23</td>\n",
       "      <td>Perempuan</td>\n",
       "      <td>Tarbiyah dan Keguruan</td>\n",
       "      <td>Tadris Fisika</td>\n",
       "      <td>20'</td>\n",
       "      <td>4</td>\n",
       "      <td>5</td>\n",
       "      <td>4</td>\n",
       "      <td>4</td>\n",
       "      <td>...</td>\n",
       "      <td>4</td>\n",
       "      <td>4</td>\n",
       "      <td>4</td>\n",
       "      <td>4</td>\n",
       "      <td>4</td>\n",
       "      <td>4</td>\n",
       "      <td>3</td>\n",
       "      <td>4</td>\n",
       "      <td>4</td>\n",
       "      <td>4</td>\n",
       "    </tr>\n",
       "    <tr>\n",
       "      <th>7</th>\n",
       "      <td>81378243248</td>\n",
       "      <td>18-20</td>\n",
       "      <td>Perempuan</td>\n",
       "      <td>Tarbiyah dan Keguruan</td>\n",
       "      <td>Tadris Bahasa Inggris</td>\n",
       "      <td>23'</td>\n",
       "      <td>3</td>\n",
       "      <td>4</td>\n",
       "      <td>3</td>\n",
       "      <td>4</td>\n",
       "      <td>...</td>\n",
       "      <td>3</td>\n",
       "      <td>5</td>\n",
       "      <td>4</td>\n",
       "      <td>3</td>\n",
       "      <td>4</td>\n",
       "      <td>3</td>\n",
       "      <td>3</td>\n",
       "      <td>3</td>\n",
       "      <td>3</td>\n",
       "      <td>5</td>\n",
       "    </tr>\n",
       "    <tr>\n",
       "      <th>8</th>\n",
       "      <td>82285505341</td>\n",
       "      <td>21-23</td>\n",
       "      <td>Laki-Laki</td>\n",
       "      <td>Tarbiyah dan Keguruan</td>\n",
       "      <td>Tadris Bahasa Inggris</td>\n",
       "      <td>20'</td>\n",
       "      <td>4</td>\n",
       "      <td>5</td>\n",
       "      <td>4</td>\n",
       "      <td>5</td>\n",
       "      <td>...</td>\n",
       "      <td>5</td>\n",
       "      <td>5</td>\n",
       "      <td>4</td>\n",
       "      <td>4</td>\n",
       "      <td>5</td>\n",
       "      <td>3</td>\n",
       "      <td>5</td>\n",
       "      <td>5</td>\n",
       "      <td>4</td>\n",
       "      <td>5</td>\n",
       "    </tr>\n",
       "    <tr>\n",
       "      <th>9</th>\n",
       "      <td>82214554927</td>\n",
       "      <td>21-23</td>\n",
       "      <td>Perempuan</td>\n",
       "      <td>Tarbiyah dan Keguruan</td>\n",
       "      <td>Tadris Bahasa Inggris</td>\n",
       "      <td>20'</td>\n",
       "      <td>5</td>\n",
       "      <td>5</td>\n",
       "      <td>4</td>\n",
       "      <td>5</td>\n",
       "      <td>...</td>\n",
       "      <td>5</td>\n",
       "      <td>5</td>\n",
       "      <td>5</td>\n",
       "      <td>5</td>\n",
       "      <td>5</td>\n",
       "      <td>5</td>\n",
       "      <td>5</td>\n",
       "      <td>5</td>\n",
       "      <td>5</td>\n",
       "      <td>5</td>\n",
       "    </tr>\n",
       "  </tbody>\n",
       "</table>\n",
       "<p>10 rows × 27 columns</p>\n",
       "</div>"
      ],
      "text/plain": [
       "  Nomor HP* (Optional)   usia jenis_kelamin               fakultas  \\\n",
       "0                 1234  21-23     Perempuan  Tarbiyah dan Keguruan   \n",
       "1          82288225929  21-23     Laki-Laki  Tarbiyah dan Keguruan   \n",
       "2          85158893049  21-23     Perempuan  Tarbiyah dan Keguruan   \n",
       "3          82384030414  21-23     Perempuan  Tarbiyah dan Keguruan   \n",
       "4          82375114074  21-23     Perempuan  Tarbiyah dan Keguruan   \n",
       "5          81283375024  18-20     Perempuan  Tarbiyah dan Keguruan   \n",
       "6          82375852033  21-23     Perempuan  Tarbiyah dan Keguruan   \n",
       "7          81378243248  18-20     Perempuan  Tarbiyah dan Keguruan   \n",
       "8          82285505341  21-23     Laki-Laki  Tarbiyah dan Keguruan   \n",
       "9          82214554927  21-23     Perempuan  Tarbiyah dan Keguruan   \n",
       "\n",
       "                  jurusan angkatan  CON1  CON2  CON3  CON4  ...  FOR3  EOU1  \\\n",
       "0       Tadris Matematika      20'     5     4     4     5  ...     5     5   \n",
       "1       Tadris Matematika      22'     4     4     4     3  ...     4     4   \n",
       "2              Tadris IPS      20'     5     5     5     5  ...     5     5   \n",
       "3              Tadris IPS      20'     4     4     4     4  ...     4     5   \n",
       "4           Tadris Fisika      20'     4     4     4     5  ...     4     4   \n",
       "5           Tadris Fisika      22'     4     3     3     3  ...     3     5   \n",
       "6           Tadris Fisika      20'     4     5     4     4  ...     4     4   \n",
       "7  Tadris Bahasa Inggris       23'     3     4     3     4  ...     3     5   \n",
       "8   Tadris Bahasa Inggris      20'     4     5     4     5  ...     5     5   \n",
       "9   Tadris Bahasa Inggris      20'     5     5     4     5  ...     5     5   \n",
       "\n",
       "   EOU2  EOU3  TIM1  TIM2  TIM3  US1  US2  US3  \n",
       "0     5     5     5     3     5    5    5    5  \n",
       "1     4     4     4     4     4    5    4    4  \n",
       "2     5     5     5     5     5    5    5    5  \n",
       "3     5     4     4     4     3    4    4    5  \n",
       "4     4     5     3     4     3    4    5    4  \n",
       "5     3     4     5     4     4    3    4    5  \n",
       "6     4     4     4     4     3    4    4    4  \n",
       "7     4     3     4     3     3    3    3    5  \n",
       "8     4     4     5     3     5    5    4    5  \n",
       "9     5     5     5     5     5    5    5    5  \n",
       "\n",
       "[10 rows x 27 columns]"
      ]
     },
     "execution_count": 100,
     "metadata": {},
     "output_type": "execute_result"
    }
   ],
   "source": [
    "url = 'https://raw.githubusercontent.com/lau-e/kuliah/refs/heads/main/lau.csv'\n",
    "data = pd.read_csv(url, delimiter=';')\n",
    "data.head(10)"
   ]
  },
  {
   "cell_type": "code",
   "execution_count": 15,
   "metadata": {},
   "outputs": [
    {
     "name": "stdout",
     "output_type": "stream",
     "text": [
      "  Nomor HP* (Optional)   usia jenis_kelamin               fakultas  \\\n",
      "0                 1234  21-23     Perempuan  Tarbiyah dan Keguruan   \n",
      "1          82288225929  21-23     Laki-Laki  Tarbiyah dan Keguruan   \n",
      "2          85158893049  21-23     Perempuan  Tarbiyah dan Keguruan   \n",
      "3          82384030414  21-23     Perempuan  Tarbiyah dan Keguruan   \n",
      "4          82375114074  21-23     Perempuan  Tarbiyah dan Keguruan   \n",
      "\n",
      "             jurusan angkatan  CON1  CON2  CON3  CON4  ...  FOR3  EOU1  EOU2  \\\n",
      "0  Tadris Matematika      20'     5     4     4     5  ...     5     5     5   \n",
      "1  Tadris Matematika      22'     4     4     4     3  ...     4     4     4   \n",
      "2         Tadris IPS      20'     5     5     5     5  ...     5     5     5   \n",
      "3         Tadris IPS      20'     4     4     4     4  ...     4     5     5   \n",
      "4      Tadris Fisika      20'     4     4     4     5  ...     4     4     4   \n",
      "\n",
      "   EOU3  TIM1  TIM2  TIM3  US1  US2  US3  \n",
      "0     5     5     3     5    5    5    5  \n",
      "1     4     4     4     4    5    4    4  \n",
      "2     5     5     5     5    5    5    5  \n",
      "3     4     4     4     3    4    4    5  \n",
      "4     5     3     4     3    4    5    4  \n",
      "\n",
      "[5 rows x 27 columns]\n"
     ]
    }
   ],
   "source": [
    "# Menampilkan 5 baris pertama dari data\n",
    "print(data.head())"
   ]
  },
  {
   "cell_type": "code",
   "execution_count": 16,
   "metadata": {},
   "outputs": [
    {
     "name": "stdout",
     "output_type": "stream",
     "text": [
      "<class 'pandas.core.frame.DataFrame'>\n",
      "RangeIndex: 213 entries, 0 to 212\n",
      "Data columns (total 27 columns):\n",
      " #   Column                Non-Null Count  Dtype \n",
      "---  ------                --------------  ----- \n",
      " 0   Nomor HP* (Optional)  187 non-null    object\n",
      " 1   usia                  213 non-null    object\n",
      " 2   jenis_kelamin         213 non-null    object\n",
      " 3   fakultas              213 non-null    object\n",
      " 4   jurusan               213 non-null    object\n",
      " 5   angkatan              213 non-null    object\n",
      " 6   CON1                  213 non-null    int64 \n",
      " 7   CON2                  213 non-null    int64 \n",
      " 8   CON3                  213 non-null    int64 \n",
      " 9   CON4                  213 non-null    int64 \n",
      " 10  CON5                  213 non-null    int64 \n",
      " 11  ACC1                  213 non-null    int64 \n",
      " 12  ACC2                  213 non-null    int64 \n",
      " 13  ACC3                  213 non-null    int64 \n",
      " 14  ACC4                  213 non-null    int64 \n",
      " 15  FOR1                  213 non-null    int64 \n",
      " 16  FOR2                  213 non-null    int64 \n",
      " 17  FOR3                  213 non-null    int64 \n",
      " 18  EOU1                  213 non-null    int64 \n",
      " 19  EOU2                  213 non-null    int64 \n",
      " 20  EOU3                  213 non-null    int64 \n",
      " 21  TIM1                  213 non-null    int64 \n",
      " 22  TIM2                  213 non-null    int64 \n",
      " 23  TIM3                  213 non-null    int64 \n",
      " 24  US1                   213 non-null    int64 \n",
      " 25  US2                   213 non-null    int64 \n",
      " 26  US3                   213 non-null    int64 \n",
      "dtypes: int64(21), object(6)\n",
      "memory usage: 45.1+ KB\n",
      "None\n"
     ]
    }
   ],
   "source": [
    "# Menampilkan informasi umum tentang data\n",
    "print(data.info())"
   ]
  },
  {
   "cell_type": "code",
   "execution_count": 19,
   "metadata": {},
   "outputs": [
    {
     "name": "stdout",
     "output_type": "stream",
     "text": [
      "             CON1        CON2        CON3        CON4        CON5        ACC1  \\\n",
      "count  213.000000  213.000000  213.000000  213.000000  213.000000  213.000000   \n",
      "mean     4.333333    4.380282    4.215962    4.286385    4.164319    4.248826   \n",
      "std      0.670586    0.765399    0.727057    0.698822    0.717861    0.739110   \n",
      "min      3.000000    2.000000    2.000000    2.000000    3.000000    2.000000   \n",
      "25%      4.000000    4.000000    4.000000    4.000000    4.000000    4.000000   \n",
      "50%      4.000000    5.000000    4.000000    4.000000    4.000000    4.000000   \n",
      "75%      5.000000    5.000000    5.000000    5.000000    5.000000    5.000000   \n",
      "max      5.000000    5.000000    5.000000    5.000000    5.000000    5.000000   \n",
      "\n",
      "             ACC2        ACC3        ACC4        FOR1  ...        FOR3  \\\n",
      "count  213.000000  213.000000  213.000000  213.000000  ...  213.000000   \n",
      "mean     4.230047    3.751174    4.140845    4.150235  ...    4.136150   \n",
      "std      0.635906    0.851780    0.788403    0.724219  ...    0.743055   \n",
      "min      3.000000    2.000000    2.000000    3.000000  ...    2.000000   \n",
      "25%      4.000000    3.000000    4.000000    4.000000  ...    4.000000   \n",
      "50%      4.000000    4.000000    4.000000    4.000000  ...    4.000000   \n",
      "75%      5.000000    4.000000    5.000000    5.000000  ...    5.000000   \n",
      "max      5.000000    5.000000    5.000000    5.000000  ...    5.000000   \n",
      "\n",
      "             EOU1        EOU2        EOU3        TIM1        TIM2        TIM3  \\\n",
      "count  213.000000  213.000000  213.000000  213.000000  213.000000  213.000000   \n",
      "mean     4.342723    4.225352    4.173709    4.084507    4.098592    3.821596   \n",
      "std      0.726783    0.888031    0.778765    0.760086    0.723362    0.827649   \n",
      "min      3.000000    1.000000    2.000000    2.000000    3.000000    3.000000   \n",
      "25%      4.000000    4.000000    4.000000    4.000000    4.000000    3.000000   \n",
      "50%      4.000000    4.000000    4.000000    4.000000    4.000000    4.000000   \n",
      "75%      5.000000    5.000000    5.000000    5.000000    5.000000    5.000000   \n",
      "max      5.000000    5.000000    5.000000    5.000000    5.000000    5.000000   \n",
      "\n",
      "              US1         US2         US3  \n",
      "count  213.000000  213.000000  213.000000  \n",
      "mean     4.037559    4.107981    4.225352  \n",
      "std      0.782170    0.772513    0.816063  \n",
      "min      2.000000    2.000000    2.000000  \n",
      "25%      4.000000    4.000000    4.000000  \n",
      "50%      4.000000    4.000000    4.000000  \n",
      "75%      5.000000    5.000000    5.000000  \n",
      "max      5.000000    5.000000    5.000000  \n",
      "\n",
      "[8 rows x 21 columns]\n"
     ]
    }
   ],
   "source": [
    "# Menampilkan statistik deskriptif dari data\n",
    "print(data.describe())"
   ]
  },
  {
   "cell_type": "code",
   "execution_count": 99,
   "metadata": {},
   "outputs": [
    {
     "name": "stdout",
     "output_type": "stream",
     "text": [
      "Distribusi Usia:\n",
      " usia\n",
      "21-23    120\n",
      "18-20     83\n",
      "24+       10\n",
      "Name: count, dtype: int64\n"
     ]
    }
   ],
   "source": [
    "# Menghitung jumlah berdasarkan kategori usia\n",
    "usia_counts = data['usia'].value_counts()\n",
    "print(\"Distribusi Usia:\\n\", usia_counts)"
   ]
  },
  {
   "cell_type": "code",
   "execution_count": 28,
   "metadata": {},
   "outputs": [
    {
     "name": "stdout",
     "output_type": "stream",
     "text": [
      "jenis_kelamin\n",
      "Perempuan    139\n",
      "Laki-Laki     74\n",
      "Name: count, dtype: int64\n"
     ]
    }
   ],
   "source": [
    "# Menghitung jumlah berdasarkan jenis kelamin\n",
    "jenis_kelamin_counts = data['jenis_kelamin'].value_counts()\n",
    "print(jenis_kelamin_counts)"
   ]
  },
  {
   "cell_type": "code",
   "execution_count": 98,
   "metadata": {},
   "outputs": [
    {
     "name": "stdout",
     "output_type": "stream",
     "text": [
      "Fakultas:\n",
      " fakultas\n",
      "Tarbiyah dan Keguruan         49\n",
      "Ushuluddin dan Studi Agama    34\n",
      "Ekonomi dan Bisnis Islam      32\n",
      "Sains dan Teknologi           28\n",
      "Adab dan Humaniora            25\n",
      "Syariah                       25\n",
      "Dakwah dan Ilmu Komunikasi    20\n",
      "Name: count, dtype: int64\n"
     ]
    }
   ],
   "source": [
    "# Menghitung jumlah berdasarkan fakultas\n",
    "fakultas_counts = data['fakultas'].value_counts()\n",
    "print(\"Fakultas:\\n\", fakultas_counts)"
   ]
  },
  {
   "cell_type": "code",
   "execution_count": 42,
   "metadata": {},
   "outputs": [
    {
     "name": "stdout",
     "output_type": "stream",
     "text": [
      "angkatan\n",
      "20'    71\n",
      "22'    68\n",
      "21'    36\n",
      "23'    34\n",
      "19'     4\n",
      "Name: count, dtype: int64\n"
     ]
    }
   ],
   "source": [
    "# Menghitung jumlah berdasarkan angkatan\n",
    "angkatan_counts = data['angkatan'].value_counts()\n",
    "print(angkatan_counts)"
   ]
  },
  {
   "cell_type": "code",
   "execution_count": null,
   "metadata": {},
   "outputs": [
    {
     "data": {
      "image/png": "[encoded data removed]",
      "text/plain": [
       "<Figure size 1000x600 with 1 Axes>"
      ]
     },
     "metadata": {},
     "output_type": "display_data"
    }
   ],
   "source": [
    "# Menghitung rata-rata untuk variabel CON1 - CON5\n",
    "con_means = data[['CON1', 'CON2', 'CON3', 'CON4', 'CON5']].mean()\n",
    "\n",
    "# Membuat bar chart untuk CON1 - CON5\n",
    "grafik_bar = plt.figure(figsize=(10, 6))\n",
    "con_means.plot(kind='bar', color='skyblue')\n",
    "plt.xlabel('Variabel')\n",
    "plt.ylabel('Skala')\n",
    "plt.title('CONTENT')\n",
    "\n",
    "# Menambahkan label pada setiap bar\n",
    "for i, v in enumerate(con_means):\n",
    "    plt.text(i, v + 0.02, f'{v:.2f}', ha='center', va='bottom')\n",
    "\n",
    "plt.ylim(0, 5)\n",
    "plt.show()\n"
   ]
  },
  {
   "cell_type": "code",
   "execution_count": 97,
   "metadata": {},
   "outputs": [
    {
     "data": {
      "image/png": "[encoded data removed]",
      "text/plain": [
       "<Figure size 1000x600 with 1 Axes>"
      ]
     },
     "metadata": {},
     "output_type": "display_data"
    }
   ],
   "source": [
    "# Menghitung rata-rata untuk variabel Accuracy\n",
    "acc_means = data[['ACC1', 'ACC2', 'ACC3', 'ACC4' ]].mean()\n",
    "\n",
    "# Membuat bar chart untuk EOU1 - EOU3\n",
    "plt.figure(figsize=(10, 6))\n",
    "acc_means.plot(kind='bar', color='skyblue')\n",
    "plt.xlabel('Variabel')\n",
    "plt.ylabel('Skala')\n",
    "plt.title('ACCURACY')\n",
    "\n",
    "# Menambahkan label pada setiap bar\n",
    "for i, v in enumerate(acc_means):\n",
    "    plt.text(i, v + 0.02, f'{v:.2f}', ha='center', va='bottom')\n",
    "\n",
    "plt.ylim(0, 5)\n",
    "plt.show()\n"
   ]
  },
  {
   "cell_type": "code",
   "execution_count": 91,
   "metadata": {},
   "outputs": [
    {
     "data": {
      "image/png": "[encoded data removed]",
      "text/plain": [
       "<Figure size 1000x600 with 1 Axes>"
      ]
     },
     "metadata": {},
     "output_type": "display_data"
    }
   ],
   "source": [
    "# Menghitung rata-rata untuk variabel FORMAT\n",
    "for_means = data[['FOR1', 'FOR2', 'FOR3']].mean()\n",
    "\n",
    "# Membuat bar chart untuk FOR1 - FOR3\n",
    "plt.figure(figsize=(10, 6))\n",
    "for_means.plot(kind='bar', color='skyblue')\n",
    "plt.xlabel('Variabel')\n",
    "plt.ylabel('Skala')\n",
    "plt.title('FORMAT')\n",
    "\n",
    "# Menambahkan label pada setiap bar\n",
    "for i, v in enumerate(for_means):\n",
    "    plt.text(i, v + 0.02, f'{v:.2f}', ha='center', va='bottom')\n",
    "\n",
    "plt.ylim(0, 5)\n",
    "plt.show()\n"
   ]
  },
  {
   "cell_type": "code",
   "execution_count": 93,
   "metadata": {},
   "outputs": [
    {
     "data": {
      "image/png": "[encoded data removed]",
      "text/plain": [
       "<Figure size 1000x600 with 1 Axes>"
      ]
     },
     "metadata": {},
     "output_type": "display_data"
    }
   ],
   "source": [
    "# Menghitung rata-rata untuk variabel EASE OF USE\n",
    "eou_means = data[['EOU1', 'EOU2', 'EOU3']].mean()\n",
    "\n",
    "# Membuat bar chart untuk EASE OF USE\n",
    "plt.figure(figsize=(10, 6))\n",
    "eou_means.plot(kind='bar', color='skyblue')\n",
    "plt.xlabel('Variabel')\n",
    "plt.ylabel('Skala')\n",
    "plt.title('EASE OF USE')\n",
    "\n",
    "# Menambahkan label pada setiap bar\n",
    "for i, v in enumerate(eou_means):\n",
    "    plt.text(i, v + 0.02, f'{v:.2f}', ha='center', va='bottom')\n",
    "\n",
    "plt.ylim(0, 5)\n",
    "plt.show()\n"
   ]
  },
  {
   "cell_type": "code",
   "execution_count": 96,
   "metadata": {},
   "outputs": [
    {
     "data": {
      "image/png": "[encoded data removed]",
      "text/plain": [
       "<Figure size 1000x600 with 1 Axes>"
      ]
     },
     "metadata": {},
     "output_type": "display_data"
    }
   ],
   "source": [
    "# Menghitung rata-rata untuk variabel Timeliness\n",
    "tim_means = data[['TIM1', 'TIM2', 'TIM3']].mean()\n",
    "\n",
    "# Membuat bar chart untuk Timeliness\n",
    "plt.figure(figsize=(10, 6))\n",
    "tim_means.plot(kind='bar', color='skyblue')\n",
    "plt.xlabel('Variabel')\n",
    "plt.ylabel('Skala')\n",
    "plt.title('TIMELINESS')\n",
    "\n",
    "# Menambahkan label pada setiap bar\n",
    "for i, v in enumerate(tim_means):\n",
    "    plt.text(i, v + 0.02, f'{v:.2f}', ha='center', va='bottom')\n",
    "\n",
    "plt.ylim(0, 5)\n",
    "plt.show()\n"
   ]
  },
  {
   "cell_type": "code",
   "execution_count": 95,
   "metadata": {},
   "outputs": [
    {
     "data": {
      "image/png": "[encoded data removed]",
      "text/plain": [
       "<Figure size 1000x600 with 1 Axes>"
      ]
     },
     "metadata": {},
     "output_type": "display_data"
    }
   ],
   "source": [
    "# Menghitung rata-rata untuk variabel User Satisfaction\n",
    "us_means = data[['US1', 'US2', 'US3']].mean()\n",
    "\n",
    "# Membuat bar chart untuk User Satisfaction\n",
    "plt.figure(figsize=(10, 6))\n",
    "us_means.plot(kind='bar', color='skyblue')\n",
    "plt.xlabel('Variabel')\n",
    "plt.ylabel('Skala')\n",
    "plt.title('USER SATISFACTION')\n",
    "\n",
    "# Menambahkan label pada setiap bar\n",
    "for i, v in enumerate(us_means):\n",
    "    plt.text(i, v + 0.02, f'{v:.2f}', ha='center', va='bottom')\n",
    "\n",
    "plt.ylim(0, 5)\n",
    "plt.show()\n"
   ]
  }
 ],
 "metadata": {
  "kernelspec": {
   "display_name": ".venv",
   "language": "python",
   "name": "python3"
  },
  "language_info": {
   "codemirror_mode": {
    "name": "ipython",
    "version": 3
   },
   "file_extension": ".py",
   "mimetype": "text/x-python",
   "name": "python",
   "nbconvert_exporter": "python",
   "pygments_lexer": "ipython3",
   "version": "3.13.1"
  }
 },
 "nbformat": 4,
 "nbformat_minor": 2
}
